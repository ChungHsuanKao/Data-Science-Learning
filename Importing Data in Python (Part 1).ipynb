{
 "cells": [
  {
   "cell_type": "markdown",
   "metadata": {},
   "source": [
    "## [Importing Data in Python (Part 1)](https://www.datacamp.com/courses/importing-data-in-python-part-1)"
   ]
  },
  {
   "cell_type": "markdown",
   "metadata": {},
   "source": [
    "#### Maximize iPython use with magic commands like `!` which gives complete system shell access. [Read More on iPython Documentation](http://ipython.readthedocs.io/en/stable/overview.html)"
   ]
  },
  {
   "cell_type": "code",
   "execution_count": 12,
   "metadata": {},
   "outputs": [
    {
     "name": "stdout",
     "output_type": "stream",
     "text": [
      "CHAPTER 1. Loomings.\n",
      "\n",
      "Call me Ishmael. Some years ago--never mind how long precisely--having\n",
      "little or no money in my purse, and nothing particular to interest me on\n",
      "shore, I thought I would sail about a little and see the watery part of\n",
      "the world. It is a way I have of driving off the spleen and regulating\n",
      "the circulation. Whenever I find myself growing grim about the mouth;\n",
      "whenever it is a damp, drizzly November in my soul; whenever I find\n",
      "myself involuntarily pausing before coffin warehouses, and bringing up\n",
      "the rear of every funeral I meet; and especially whenever my hypos get\n",
      "such an upper hand of me, that it requires a strong moral principle to\n",
      "prevent me from deliberately stepping into the street, and methodically\n",
      "knocking people's hats off--then, I account it high time to get to sea\n",
      "as soon as I can. This is my substitute for pistol and ball. With a\n",
      "philosophical flourish Cato throws himself upon his sword; I quietly\n",
      "take to the ship. There is nothing surprising in this. If they but knew\n",
      "it, almost all men in their degree, some time or other, cherish very\n",
      "nearly the same feelings towards the ocean with me.\n",
      "False\n",
      "True\n"
     ]
    }
   ],
   "source": [
    "# Open a file: file\n",
    "file = open('moby_dick.txt', mode='r')\n",
    "\n",
    "# Print it\n",
    "print(file.read())\n",
    "\n",
    "# Check whether file is closed\n",
    "print(file.closed)\n",
    "\n",
    "# Close file\n",
    "file.close()\n",
    "\n",
    "# Check whether file is closed\n",
    "print(file.closed)"
   ]
  },
  {
   "cell_type": "code",
   "execution_count": 13,
   "metadata": {},
   "outputs": [
    {
     "name": "stdout",
     "output_type": "stream",
     "text": [
      "CHAPTER 1. Loomings.\n",
      "\n",
      "\n",
      "\n",
      "Call me Ishmael. Some years ago--never mind how long precisely--having\n",
      "\n"
     ]
    }
   ],
   "source": [
    "# Read & print the first 3 lines\n",
    "with open('moby_dick.txt') as file:\n",
    "    print(file.readline())\n",
    "    print(file.readline())\n",
    "    print(file.readline())"
   ]
  },
  {
   "cell_type": "markdown",
   "metadata": {},
   "source": [
    "## Flat Files\n",
    "- Text files containing records\n",
    "- Table data without structured relationships (in contrast to a relational database)\n",
    "- Record: row of fields or attributes\n",
    "- Column: feature or attribute\n",
    "- Your flat file may have a **Header** row and this can alter your data import"
   ]
  },
  {
   "cell_type": "code",
   "execution_count": 14,
   "metadata": {},
   "outputs": [],
   "source": [
    "import this"
   ]
  },
  {
   "cell_type": "markdown",
   "metadata": {},
   "source": [
    " ### [PEP20](https://www.python.org/dev/peps/pep-0020/)\n",
    " ### [PEP8](https://www.python.org/dev/peps/pep-0008/)\n",
    "BDFL - Benevolent Dictator for Life - Guido"
   ]
  },
  {
   "cell_type": "markdown",
   "metadata": {},
   "source": [
    "## Numpy\n",
    "- Numpy arrays: standard for storing numerical data\n",
    "- Essential for other packages: e.g. scikit-learn\n",
    "- Numpy functions:\n",
    "    - `loadtxt()` and `genfromtxt()`\n",
    "    \n",
    "```python\n",
    "import numpy as np\n",
    "filename = 'MNIST.txt'\n",
    "data = np.loadtxt(fileaname, delimiter=',', skiprows=1, usecols=[0,2])\n",
    "data\n",
    "```\n",
    "\n",
    "##### [MNIST data and Yann LeCun](http://yann.lecun.com/exdb/mnist/)"
   ]
  },
  {
   "cell_type": "code",
   "execution_count": 15,
   "metadata": {},
   "outputs": [
    {
     "name": "stdout",
     "output_type": "stream",
     "text": [
      "<class 'numpy.ndarray'>\n"
     ]
    },
    {
     "data": {
      "image/png": "[encoded data removed]",
      "text/plain": [
       "<Figure size 432x288 with 1 Axes>"
      ]
     },
     "metadata": {},
     "output_type": "display_data"
    }
   ],
   "source": [
    "# Import package\n",
    "import numpy as np\n",
    "import matplotlib.pyplot as plt\n",
    "\n",
    "# Assign filename to variable: file\n",
    "file = 'digits.csv'\n",
    "\n",
    "# Load file as array: digits\n",
    "digits = np.loadtxt(file, delimiter=',')\n",
    "\n",
    "# Print datatype of digits\n",
    "print(type(digits))\n",
    "\n",
    "# Select and reshape a row\n",
    "im = digits[21, 1:]\n",
    "im_sq = np.reshape(im, (28, 28))\n",
    "\n",
    "# Plot reshaped data (matplotlib.pyplot already loaded as plt)\n",
    "plt.imshow(im_sq, cmap='Greys', interpolation='nearest')\n",
    "plt.show()"
   ]
  },
  {
   "cell_type": "markdown",
   "metadata": {},
   "source": [
    "[introduction-and-flat-files Example 11](https://campus.datacamp.com/courses/importing-data-in-python-part-1/introduction-and-flat-files-1?ex=11)\n",
    "```python\n",
    "# Import numpy\n",
    "import numpy as np\n",
    "\n",
    "# Assign the filename: file\n",
    "file = 'digits_header.txt'\n",
    "\n",
    "# Load the data: data\n",
    "data = np.loadtxt(file, delimiter='\\t', skiprows=1, usecols=[0,2])\n",
    "\n",
    "# Print data\n",
    "print(data)\n",
    "```"
   ]
  },
  {
   "cell_type": "markdown",
   "metadata": {},
   "source": [
    "[introduction-and-flat-files Example 12](https://campus.datacamp.com/courses/importing-data-in-python-part-1/introduction-and-flat-files-1?ex=12)\n",
    "```python\n",
    "# Assign filename: file\n",
    "file = 'seaslug.txt'\n",
    "\n",
    "# Import file: data\n",
    "data = np.loadtxt(file, delimiter='\\t', dtype=str)\n",
    "\n",
    "# Print the first element of data\n",
    "print(data[0])\n",
    "\n",
    "# Import data as floats and skip the first row: data_float\n",
    "data_float = np.loadtxt(file, delimiter='\\t', dtype=float, skiprows=1)\n",
    "\n",
    "# Print the 10th element of data_float\n",
    "print(data_float[9])\n",
    "\n",
    "# Plot a scatterplot of the data\n",
    "plt.scatter(data_float[:, 0], data_float[:, 1])\n",
    "plt.xlabel('time (min.)')\n",
    "plt.ylabel('percentage of larvae')\n",
    "plt.show()\n",
    "```"
   ]
  },
  {
   "cell_type": "markdown",
   "metadata": {},
   "source": [
    "[introduction-and-flat-files Example 14](https://campus.datacamp.com/courses/importing-data-in-python-part-1/introduction-and-flat-files-1?ex=14)\n",
    "```python\n",
    "# Assign the filename: file\n",
    "file = 'titanic.csv'\n",
    "\n",
    "# Import file using np.recfromcsv: d\n",
    "d = np.recfromcsv(file)\n",
    "\n",
    "# Print out first three entries of d\n",
    "print(d[:3])\n",
    "```"
   ]
  },
  {
   "cell_type": "markdown",
   "metadata": {},
   "source": [
    "## What a data scientist needs\n",
    "- Two-dimensional labeled data structure(s)\n",
    "- Columns of potentially different types\n",
    "- Manipulate, slice, reshape, groupby, join, merge\n",
    "- Perform statistics—in a missing values friendly environment\n",
    "- Work with Datetime data\n",
    "\n",
    "## Manipulating pandas DataFrames\n",
    "- Exploratory data analysis (EDA)\n",
    "- Data wrangling\n",
    "- Data preprocessing\n",
    "- Building models\n",
    "- Visualization\n",
    "\n",
    "```python\n",
    "import pandas as pd\n",
    "filename = 'winequality-red.csv'\n",
    "data = pd.read_csv(filename)\n",
    "data.head()\n",
    "\n",
    "data_array = data.values\n",
    "```"
   ]
  },
  {
   "cell_type": "markdown",
   "metadata": {},
   "source": [
    "[introduction-and-flat-files Example 17](https://campus.datacamp.com/courses/importing-data-in-python-part-1/introduction-and-flat-files-1?ex=17)\n",
    "```python\n",
    "# Assign the filename: file\n",
    "file = 'digits.csv'\n",
    "\n",
    "# Read the first 5 rows of the file into a DataFrame: data\n",
    "data = pd.read_csv(file, nrows=5, header=None)\n",
    "\n",
    "# Build a numpy array from the DataFrame: data_array\n",
    "data_array = data.values\n",
    "\n",
    "# Print the datatype of data_array to the shell\n",
    "print(type(data_array))\n",
    "```"
   ]
  },
  {
   "cell_type": "markdown",
   "metadata": {},
   "source": [
    "[introduction-and-flat-files Example 18](https://campus.datacamp.com/courses/importing-data-in-python-part-1/introduction-and-flat-files-1?ex=18)\n",
    "```python\n",
    "# Import matplotlib.pyplot as plt\n",
    "import matplotlib.pyplot as plt\n",
    "\n",
    "# Assign filename: file\n",
    "file = 'titanic_corrupt.txt'\n",
    "\n",
    "# Import file: data\n",
    "data = pd.read_csv(file, sep='\\t', comment='#', na_values='Nothing')\n",
    "\n",
    "# Print the head of the DataFrame\n",
    "print(data.head())\n",
    "\n",
    "# Plot 'Age' variable in a histogram\n",
    "pd.DataFrame.hist(data[['Age']])\n",
    "plt.xlabel('Age (years)')\n",
    "plt.ylabel('count')\n",
    "plt.show()\n",
    "```"
   ]
  },
  {
   "cell_type": "markdown",
   "metadata": {},
   "source": [
    "## Intro to other file types\n",
    "- Excel spreadsheets\n",
    "- MATLAB files\n",
    "- SAS files\n",
    "- Stata files\n",
    "- HDF5 files (LIGO data)(becoming more prevalent for storing big data projects)\n",
    "\n",
    "### Pickled files\n",
    "- File type native to Python\n",
    "- Motivation: many datatypes for which it isn't obvious how to store them (ex. JSON is an appropriate export for Python dictionaries)\n",
    "- Pickled files are serialized\n",
    "- Serialize = convert object to bytestream\n",
    "\n",
    "```python\n",
    "import pickle\n",
    "with open('pickled_fruit.pkl', 'rb') as file:    #'rb' read-only and binary\n",
    "    data = pickle.load(file)\n",
    "print(data)\n",
    "```\n",
    "\n",
    "### Excel Spreadsheets\n",
    "\n",
    "```python\n",
    "import pandas as pd\n",
    "file = 'urbanpop.xlsx'\n",
    "data = pd.ExcelFile(file)\n",
    "print(data.sheet_names)\n",
    "# output is a list of strings representing the sheet names\n",
    "df1 = data.parse('1960-1966')\n",
    "# OR\n",
    "df2 = data.parse(0)\n",
    "```\n"
   ]
  },
  {
   "cell_type": "markdown",
   "metadata": {},
   "source": [
    "## Python's `os` [Library](https://docs.python.org/2/library/os.html)"
   ]
  },
  {
   "cell_type": "code",
   "execution_count": 16,
   "metadata": {
    "scrolled": true
   },
   "outputs": [
    {
     "data": {
      "text/plain": [
       "['stocks_data.csv',\n",
       " 'pennsylvania2012_turnout.csv',\n",
       " 'Splicing Examples.ipynb',\n",
       " 'file_clean.xlsx',\n",
       " 'billboard.csv',\n",
       " 'hs-2004-32-b-small_web.jpg',\n",
       " 'bronze_top5.csv',\n",
       " 'Introduction-to-Data-Visualization-with-Python.ipynb',\n",
       " 'Gold.csv',\n",
       " 'pivot.png',\n",
       " '.DS_Store',\n",
       " 'january.csv',\n",
       " 'Manipulating DataFrames with pandas.ipynb',\n",
       " 'regex.png',\n",
       " 'gdp_china.csv',\n",
       " 'Data_Types_for_Data_Science.ipynb',\n",
       " 'tmp_clean_stock_data.csv',\n",
       " 'all_medalists.csv',\n",
       " 'unixshell_data_camp.txt',\n",
       " 'gold_top5.csv',\n",
       " 'austin_airport_departure_data_2015_july.csv',\n",
       " 'Silver.csv',\n",
       " 'sales1.csv',\n",
       " 'march.csv',\n",
       " 'moby_dick.txt',\n",
       " 'Summer Olympic medalists 1896 to 2008 - ALL MEDALISTS.tsv',\n",
       " 'users.csv',\n",
       " 'globbing.png',\n",
       " 'pandas-Foundations.ipynb',\n",
       " 'Datasets',\n",
       " 'Git_DataCamp_Introduction.txt',\n",
       " 'baby_names.csv',\n",
       " 'which_join.png',\n",
       " 'gapminder_messy.csv',\n",
       " 'resample_arg.png',\n",
       " 'tidy_data.png',\n",
       " 'sales-feb-2015.csv',\n",
       " 'tips.csv',\n",
       " 'Python-Data-Science-Toolbox-Part-1.ipynb',\n",
       " 'Git_DataCamp_Introduction.rtfd',\n",
       " 'TidyData.pdf',\n",
       " 'population.csv',\n",
       " 'README.md',\n",
       " 'Data_Science_Data_Camp.ipynb',\n",
       " 'pivot_table.png',\n",
       " 'Cleaning Data in Python.ipynb',\n",
       " 'messy_stock_data.tsv',\n",
       " 'silver_top5.csv',\n",
       " 'auto-mpg.csv',\n",
       " 'names1881.csv',\n",
       " 'Bronze.csv',\n",
       " '.gitignore',\n",
       " 'percent-bachelors-degrees-women-usa.csv',\n",
       " 'Summer Olympic medalists 1896 to 2008 - EDITIONS.tsv',\n",
       " 'NOAA_QCLCD_2011_hourly_13904.csv',\n",
       " 'titanic.csv',\n",
       " 'Python Data Science Toolbox (Part 2).ipynb',\n",
       " 'concat_many.png',\n",
       " 'Merging DataFrames.ipynb',\n",
       " 'tidy_data2.png',\n",
       " 'co_matrix.csv',\n",
       " '.gitattributes',\n",
       " 'digits.csv',\n",
       " 'world_population.csv',\n",
       " 'string_manip.png',\n",
       " '.ipynb_checkpoints',\n",
       " 'life_expectancy_at_birth.csv',\n",
       " '640px-Unequalized_Hawkes_Bay_NZ.jpg',\n",
       " 'names1981.csv',\n",
       " 'exchange.csv',\n",
       " 'annotate.png',\n",
       " 'auto.csv',\n",
       " '.git',\n",
       " '.vscode',\n",
       " 'gdp_usa.csv',\n",
       " '480px-Astronaut-EVA.jpg',\n",
       " 'indexes.png',\n",
       " 'cars.csv',\n",
       " 'pittsburgh2013.csv',\n",
       " 'Importing Data in Python (Part 1).ipynb',\n",
       " 'weather_data_austin_2010.csv',\n",
       " 'gapminder.csv',\n",
       " 'gapminder_agg.csv',\n",
       " 'Summer Olympic medalists 1896 to 2008 - IOC COUNTRY CODES.csv',\n",
       " 'dataframe_styles.png',\n",
       " 'tidy_case.png',\n",
       " 'tweets.csv',\n",
       " 'sales.csv',\n",
       " 'stocks.csv']"
      ]
     },
     "execution_count": 16,
     "metadata": {},
     "output_type": "execute_result"
    }
   ],
   "source": [
    "import os\n",
    "wd = os.getcwd()\n",
    "os.listdir(wd)"
   ]
  },
  {
   "cell_type": "markdown",
   "metadata": {},
   "source": [
    "[importing-data-from-other-file-types Example 3](https://campus.datacamp.com/courses/importing-data-in-python-part-1/importing-data-from-other-file-types-2?ex=3)\n",
    "```python\n",
    "# Import pickle package\n",
    "import pickle\n",
    "\n",
    "# Open pickle file and load data: d\n",
    "with open('data.pkl', 'rb') as file:\n",
    "    d = pickle.load(file)\n",
    "\n",
    "# Print d\n",
    "print(d)\n",
    "\n",
    "# Print datatype of d\n",
    "print(type(d))\n",
    "```"
   ]
  },
  {
   "cell_type": "markdown",
   "metadata": {},
   "source": [
    "[importing-data-from-other-file-types Example 4](https://campus.datacamp.com/courses/importing-data-in-python-part-1/importing-data-from-other-file-types-2?ex=4)\n",
    "```python\n",
    "# Import pandas\n",
    "import pandas as pd\n",
    "\n",
    "# Assign spreadsheet filename: file\n",
    "file = 'battledeath.xlsx'\n",
    "\n",
    "# Load spreadsheet: xl\n",
    "xl = pd.ExcelFile(file)\n",
    "\n",
    "# Print sheet names\n",
    "print(xl.sheet_names)\n",
    "```"
   ]
  },
  {
   "cell_type": "markdown",
   "metadata": {},
   "source": [
    "[importing-data-from-other-file-types Example 5](https://campus.datacamp.com/courses/importing-data-in-python-part-1/importing-data-from-other-file-types-2?ex=5)\n",
    "```python\n",
    "# Load a sheet into a DataFrame by name: df1\n",
    "df1 = xl.parse('2004')\n",
    "\n",
    "# Print the head of the DataFrame df1\n",
    "print(df1.head())\n",
    "\n",
    "# Load a sheet into a DataFrame by index: df2\n",
    "df2 = xl.parse(0)\n",
    "\n",
    "# Print the head of the DataFrame df2\n",
    "print(df2.head())\n",
    "```"
   ]
  },
  {
   "cell_type": "markdown",
   "metadata": {},
   "source": [
    "[importing-data-from-other-file-types Example 6](https://campus.datacamp.com/courses/importing-data-in-python-part-1/importing-data-from-other-file-types-2?ex=6)\n",
    "```python\n",
    "# Parse the first sheet and rename the columns: df1\n",
    "df1 = xl.parse(0, skiprows=1, names=['Country', 'AAM due to War (2002)'])\n",
    "\n",
    "# Print the head of the DataFrame df1\n",
    "print(df1.head())\n",
    "\n",
    "# Parse the first column of the second sheet and rename the column: df2\n",
    "df2 = xl.parse(1, parse_cols=0, skiprows=1, names=['Country'])\n",
    "\n",
    "# Print the head of the DataFrame df2\n",
    "print(df2.head())\n",
    "```"
   ]
  },
  {
   "cell_type": "markdown",
   "metadata": {},
   "source": [
    "## Importing SAS/Stata files using pandas\n",
    "- SAS: Statistical Analysis System\n",
    "- Stata: \"Statistics\" + \"data\"\n",
    "\n",
    "- SAS: business analytics and biostatistics\n",
    "    - Advanced analytics\n",
    "    - Multivariate analysis\n",
    "    - Business intelligence\n",
    "    - Data management\n",
    "    - Predictive analytics\n",
    "        - The standard for computational analysis\n",
    "    - Dataset files: .sas7bdat Catalogue files: .sas7bcat\n",
    "    - The following applies the data to a variable `file` within a context manager\n",
    "    - Within this context, you can assign to a variable `df_sas` the result of applying the method `.to_data_frame()` to file\n",
    "\n",
    "``` python\n",
    "import pandas as pd\n",
    "from sas7bdat import SAS7BDAT\n",
    "with SAS7BDAT('urbanpop.sas7bdat') as file:\n",
    "    df_sas = file.to_data_frame()\n",
    "```\n",
    "- Stata: academic social sciences research\n",
    "    - Have extension: .dta\n",
    "\n",
    "```python\n",
    "import pandas as pd\n",
    "data = pd.read_stata('urbanpop.dta')\n",
    "```"
   ]
  },
  {
   "cell_type": "markdown",
   "metadata": {},
   "source": [
    "[importing-data-from-other-file-types Example 9](https://campus.datacamp.com/courses/importing-data-in-python-part-1/importing-data-from-other-file-types-2?ex=9)\n",
    "```python\n",
    "# Import sas7bdat package\n",
    "from sas7bdat import SAS7BDAT\n",
    "\n",
    "# Save file to a DataFrame: df_sas\n",
    "with SAS7BDAT('sales.sas7bdat') as file:\n",
    "    df_sas = file.to_data_frame()\n",
    "\n",
    "# Print head of DataFrame\n",
    "print(df_sas.head())\n",
    "\n",
    "# Plot histogram of DataFrame features (pandas and pyplot already imported)\n",
    "pd.DataFrame.hist(df_sas[['P']])\n",
    "plt.ylabel('count')\n",
    "plt.show()\n",
    "```"
   ]
  },
  {
   "cell_type": "markdown",
   "metadata": {},
   "source": [
    "[importing-data-from-other-file-types Example 11](https://campus.datacamp.com/courses/importing-data-in-python-part-1/importing-data-from-other-file-types-2?ex=11)\n",
    "```python\n",
    "# Import pandas\n",
    "import pandas as pd\n",
    "\n",
    "# Load Stata file into a pandas DataFrame: df\n",
    "df = pd.read_stata('disarea.dta')\n",
    "\n",
    "# Print the head of the DataFrame df\n",
    "print(df.head())\n",
    "\n",
    "# Plot histogram of one column of the DataFrame\n",
    "pd.DataFrame.hist(df[['disa10']])\n",
    "plt.xlabel('Extent of disease')\n",
    "plt.ylabel('Number of countries')\n",
    "plt.show()\n",
    "```"
   ]
  },
  {
   "cell_type": "markdown",
   "metadata": {},
   "source": [
    "## Importing HDF5 files\n",
    "- Hierarchical Data Format version 5\n",
    "- Quickly becoming the standard for storing large quantities of numerical data\n",
    "- Datasets can be hundreds of gigabytes or terabytes\n",
    "- HDF5 can scale to exabytes\n",
    "\n",
    "```python\n",
    "import h5py\n",
    "filename = 'dataset_filename.hdf5'\n",
    "data = h5py.File(filename, 'r') # 'r' is to read\n",
    "print(type(data))\n",
    "\n",
    "for key in data.keys():\n",
    "    print(key)\n",
    "\n",
    "print(type(data['meta']))\n",
    "# output: <class 'h5py._hl.group.Group'>\n",
    "\n",
    "for key in data['meta'].keys():\n",
    "    print(key)\n",
    "\n",
    "print(data['meta']['Description'].value, data['meta']['Detector'].value)\n",
    "```\n",
    "\n",
    "[importing-data-from-other-file-types Example 14](https://campus.datacamp.com/courses/importing-data-in-python-part-1/importing-data-from-other-file-types-2?ex=14)"
   ]
  },
  {
   "cell_type": "code",
   "execution_count": 19,
   "metadata": {},
   "outputs": [
    {
     "name": "stdout",
     "output_type": "stream",
     "text": [
      "<class 'h5py._hl.files.File'>\n",
      "meta\n",
      "quality\n",
      "strain\n"
     ]
    }
   ],
   "source": [
    "# Import packages\n",
    "import numpy as np\n",
    "import h5py\n",
    "\n",
    "# Assign filename: file\n",
    "file = 'LIGO_data.hdf5'\n",
    "\n",
    "# Load file: data\n",
    "data = h5py.File(file, 'r')\n",
    "\n",
    "# Print the datatype of the loaded file\n",
    "print(type(data))\n",
    "\n",
    "# Print the keys of the file\n",
    "for key in data.keys():\n",
    "    print(key)"
   ]
  },
  {
   "cell_type": "code",
   "execution_count": 20,
   "metadata": {},
   "outputs": [
    {
     "name": "stdout",
     "output_type": "stream",
     "text": [
      "Strain\n"
     ]
    },
    {
     "data": {
      "image/png": "[encoded data removed]",
      "text/plain": [
       "<Figure size 432x288 with 1 Axes>"
      ]
     },
     "metadata": {},
     "output_type": "display_data"
    }
   ],
   "source": [
    "# Get the HDF5 group: group\n",
    "group = data['strain']\n",
    "\n",
    "# Check out keys of group\n",
    "for key in group.keys():\n",
    "    print(key)\n",
    "\n",
    "# Set variable equal to time series data: strain\n",
    "strain = data['strain']['Strain'].value\n",
    "\n",
    "# Set number of time points to sample: num_samples\n",
    "num_samples = 10000\n",
    "\n",
    "# Set time vector\n",
    "time = np.arange(0, 1, 1/num_samples)\n",
    "\n",
    "# Plot data\n",
    "plt.plot(time, strain[:num_samples])\n",
    "plt.xlabel('GPS Time (s)')\n",
    "plt.ylabel('strain')\n",
    "plt.show()"
   ]
  },
  {
   "cell_type": "markdown",
   "metadata": {},
   "source": [
    "## MATLAB\n",
    "- \"Matrix Laboratory\"\n",
    "- Industry standard in engineering and science\n",
    "- extension: .mat\n",
    "- Easily read with the SciPy library:\n",
    "    - `scipy.io.loadmat()` - read .mat files\n",
    "    - `scipy.io.savemat()` - write .mat files\n",
    "\n",
    "```python\n",
    "import scipy.io\n",
    "filename = 'workspace.mat'\n",
    "mat = scipy.io.loadmat(filename)\n",
    "print(type(mat))\n",
    "# output: <class 'dict'>\n",
    "\n",
    "print(type(mat['x']))\n",
    "# output: <class 'numpy.ndarray'>\n",
    "```\n",
    "\n",
    "- keys = MATLAB variable names\n",
    "- values = objects assigned to variables\n",
    "\n",
    "\n",
    "\n",
    "[importing-data-from-other-file-types Example 17](https://campus.datacamp.com/courses/importing-data-in-python-part-1/importing-data-from-other-file-types-2?ex=17)\n",
    "```python\n",
    "# Import package\n",
    "import scipy.io\n",
    "\n",
    "# Load MATLAB file: mat\n",
    "mat = scipy.io.loadmat('albeck_gene_expression.mat')\n",
    "\n",
    "# Print the datatype type of mat\n",
    "print(type(mat))\n",
    "```"
   ]
  },
  {
   "cell_type": "markdown",
   "metadata": {},
   "source": [
    "[importing-data-from-other-file-types Example 18](https://campus.datacamp.com/courses/importing-data-in-python-part-1/importing-data-from-other-file-types-2?ex=18)\n",
    "```python\n",
    "# Print the keys of the MATLAB dictionary\n",
    "print(mat.keys())\n",
    "\n",
    "# Print the type of the value corresponding to the key 'CYratioCyt'\n",
    "print(type(mat['CYratioCyt']))\n",
    "\n",
    "# Print the shape of the value corresponding to the key 'CYratioCyt'\n",
    "print(np.shape(mat['CYratioCyt']))\n",
    "\n",
    "# Subset the array and plot it\n",
    "data = mat['CYratioCyt'][25, 5:]\n",
    "fig = plt.figure()\n",
    "plt.plot(data)\n",
    "plt.xlabel('time (min.)')\n",
    "plt.ylabel('normalized fluorescence (measure of expression)')\n",
    "plt.show()\n",
    "```"
   ]
  },
  {
   "cell_type": "markdown",
   "metadata": {},
   "source": [
    "## Intro to relational databases\n",
    "- Based on the *relational model of data* and first described by Edgar \"Ted\" Codd.\n",
    "- Codd's relational model is widely adopted and based on his [13 rules](https://en.wikipedia.org/wiki/Codd's_12_rules) (zero-indexed!)\n",
    "    - Describes what a Relational Database Management System should adhere to to be considered relational\n",
    "- **PostgreSQL (postgres)**\n",
    "- **MySQL**\n",
    "- **SQLite**\n",
    "- SQL = Structured Query Language\n",
    "    - Each row or record in a table represents an instance of an entity type.\n",
    "    - Each column in a table represents an attribute or feature of an instance.\n",
    "    - Every table contains a primary key column, which has a unique entry for each row.\n",
    "    - There are relations between tables.\n",
    "## Creating a database engine in Python\n",
    "- The following will use a SQLite database accessed through the SQLAlchemy Python package because it works with many Relational Database Management Systems\n",
    "\n",
    "```python\n",
    "from sqlalchemy import create_engine\n",
    "engine = create_engine('sqlite:///Northwind.sqlite')\n",
    "table_names = engine.table_names()\n",
    "print(table_names)\n",
    "```\n",
    "\n",
    "[working-with-relational-databases-in-python Example 4](https://campus.datacamp.com/courses/importing-data-in-python-part-1/working-with-relational-databases-in-python-3?ex=4)\n",
    "```python\n",
    "# Import necessary module\n",
    "from sqlalchemy import create_engine\n",
    "\n",
    "# Create engine: engine\n",
    "engine = create_engine('sqlite:///Chinook.sqlite')\n",
    "```"
   ]
  },
  {
   "cell_type": "markdown",
   "metadata": {},
   "source": [
    "[working-with-relational-databases-in-python Example 5](https://campus.datacamp.com/courses/importing-data-in-python-part-1/working-with-relational-databases-in-python-3?ex=5)\n",
    "```python\n",
    "# Import necessary module\n",
    "from sqlalchemy import create_engine\n",
    "\n",
    "# Create engine: engine\n",
    "engine = create_engine('sqlite:///Chinook.sqlite')\n",
    "\n",
    "# Save the table names to a list: table_names\n",
    "table_names = engine.table_names()\n",
    "\n",
    "# Print the table names to the shell\n",
    "print(table_names)\n",
    "```"
   ]
  },
  {
   "cell_type": "markdown",
   "metadata": {},
   "source": [
    "## Querying relational databases in Python\n",
    "- `SELECT * FROM Table_name`\n",
    "- Returns all columns of all rows of the table\n",
    "- Example:\n",
    "- `SELECT * FROM Orders`\n",
    "- We'll use SQLAlchemy and pandas\n",
    "- Workflow:\n",
    "    - Import packages and functions\n",
    "    - Create the database engine\n",
    "    - Connect to the engine\n",
    "    - Query the database\n",
    "    - Save query results to a DataFrame\n",
    "    - Close the connection\n",
    "\n",
    "```python\n",
    "from sqlalchemy import create_engine\n",
    "import pandas as pd\n",
    "engine = create_engine('sqlite:///Northwinds.sqlite')\n",
    "con = engine.connect()\n",
    "rs = con.execute(\"SELECT * FROM Orders\")\n",
    "df = pd.DataFrame(rs.fetchall())\n",
    "df.columns = rs.keys()\n",
    "con.close()\n",
    "\n",
    "print(df.head())\n",
    "```\n",
    "- OR\n",
    "\n",
    "```python\n",
    "from sqlalchemy import create_engine\n",
    "import pandas as pd\n",
    "engine = create_engine('sqlite:///Northwinds.sqlite')\n",
    "with engine.connect() as con:\n",
    "    rs = con.execute(\"SELECT OrderID, OrderDate, ShipName FROM Orders\")\n",
    "    df = pd.DataFrame(rs.fetchmany(5))\n",
    "    df.columns = rs.keys()\n",
    "```\n",
    "\n",
    "[working-with-relational-databases-in-python Example 7](https://campus.datacamp.com/courses/importing-data-in-python-part-1/working-with-relational-databases-in-python-3?ex=7)\n",
    "\n",
    "```python\n",
    "# Import packages\n",
    "from sqlalchemy import create_engine\n",
    "import pandas as pd\n",
    "\n",
    "# Create engine: engine\n",
    "engine = create_engine('sqlite:///Chinook.sqlite')\n",
    "\n",
    "# Open engine connection: con\n",
    "con = engine.connect()\n",
    "\n",
    "# Perform query: rs\n",
    "rs = con.execute('SELECT * FROM Album')\n",
    "\n",
    "# Save results of the query to DataFrame: df\n",
    "df = pd.DataFrame(rs.fetchall())\n",
    "\n",
    "# Close connection\n",
    "con.close()\n",
    "\n",
    "# Print head of DataFrame df\n",
    "print(df.head())\n",
    "```"
   ]
  },
  {
   "cell_type": "markdown",
   "metadata": {},
   "source": [
    "[working-with-relational-databases-in-python Example 8](https://campus.datacamp.com/courses/importing-data-in-python-part-1/working-with-relational-databases-in-python-3?ex=8)\n",
    "```python\n",
    "# Open engine in context manager\n",
    "# Perform query and save results to DataFrame: df\n",
    "with engine.connect() as con:\n",
    "    rs = con.execute('SELECT LastName, Title FROM Employee')\n",
    "    df = pd.DataFrame(rs.fetchmany(3))\n",
    "    df.columns = rs.keys()\n",
    "\n",
    "# Print the length of the DataFrame df\n",
    "print(len(df))\n",
    "\n",
    "# Print the head of the DataFrame df\n",
    "print(df.head())\n",
    "```"
   ]
  },
  {
   "cell_type": "markdown",
   "metadata": {},
   "source": [
    "[working-with-relational-databases-in-python Example 9](https://campus.datacamp.com/courses/importing-data-in-python-part-1/working-with-relational-databases-in-python-3?ex=9)\n",
    "```python\n",
    "# Create engine: engine\n",
    "engine = create_engine('sqlite:///Chinook.sqlite')\n",
    "\n",
    "# Open engine in context manager\n",
    "# Perform query and save results to DataFrame: df\n",
    "with engine.connect() as con:\n",
    "    rs = con.execute('SELECT * FROM Employee WHERE EmployeeId >= 6')\n",
    "    df = pd.DataFrame(rs.fetchall())\n",
    "    df.columns = rs.keys()\n",
    "\n",
    "# Print the head of the DataFrame df\n",
    "print(df.head())\n",
    "```"
   ]
  },
  {
   "cell_type": "markdown",
   "metadata": {},
   "source": [
    "[working-with-relational-databases-in-python Example 10](https://campus.datacamp.com/courses/importing-data-in-python-part-1/working-with-relational-databases-in-python-3?ex=10)\n",
    "```python\n",
    "# Create engine: engine\n",
    "engine = create_engine('sqlite:///Chinook.sqlite')\n",
    "\n",
    "# Open engine in context manager\n",
    "with engine.connect() as con:\n",
    "    rs = con.execute('SELECT * FROM Employee ORDER BY BirthDate')\n",
    "    df = pd.DataFrame(rs.fetchall())\n",
    "\n",
    "    # Set the DataFrame's column names\n",
    "    df.columns = rs.keys()\n",
    "\n",
    "# Print head of DataFrame\n",
    "print(df.head())\n",
    "```"
   ]
  },
  {
   "cell_type": "markdown",
   "metadata": {},
   "source": [
    "## The pandas way to query\n",
    "\n",
    "```python\n",
    "df = pd.read_sql_query(\"SELECT * FROM Orders\", engine)\n",
    "```\n",
    "\n",
    "[working-with-relational-databases-in-python Example 13](https://campus.datacamp.com/courses/importing-data-in-python-part-1/working-with-relational-databases-in-python-3?ex=13)\n",
    "```python\n",
    "# Import packages\n",
    "from sqlalchemy import create_engine\n",
    "import pandas as pd\n",
    "\n",
    "# Create engine: engine\n",
    "engine = create_engine('sqlite:///Chinook.sqlite')\n",
    "\n",
    "# Execute query and store records in DataFrame: df\n",
    "df = pd.read_sql_query(\"SELECT * FROM Employee WHERE EmployeeId >= 6 ORDER BY BirthDate\", engine)\n",
    "\n",
    "# Print head of DataFrame\n",
    "print(df.head())\n",
    "```"
   ]
  },
  {
   "cell_type": "markdown",
   "metadata": {},
   "source": [
    "## Advanced Querying: exploiting table relationships\n",
    "- \n",
    "\n",
    "[working-with-relational-databases-in-python Example 5](https://campus.datacamp.com/courses/importing-data-in-python-part-1/working-with-relational-databases-in-python-3?ex=5)\n",
    "```python\n",
    "\n",
    "```"
   ]
  },
  {
   "cell_type": "markdown",
   "metadata": {},
   "source": [
    "[working-with-relational-databases-in-python Example 5](https://campus.datacamp.com/courses/importing-data-in-python-part-1/working-with-relational-databases-in-python-3?ex=5)\n",
    "```python\n",
    "\n",
    "```"
   ]
  },
  {
   "cell_type": "markdown",
   "metadata": {},
   "source": []
  },
  {
   "cell_type": "markdown",
   "metadata": {},
   "source": []
  },
  {
   "cell_type": "markdown",
   "metadata": {},
   "source": []
  },
  {
   "cell_type": "markdown",
   "metadata": {},
   "source": []
  },
  {
   "cell_type": "markdown",
   "metadata": {},
   "source": []
  },
  {
   "cell_type": "markdown",
   "metadata": {},
   "source": []
  },
  {
   "cell_type": "markdown",
   "metadata": {},
   "source": []
  },
  {
   "cell_type": "code",
   "execution_count": null,
   "metadata": {},
   "outputs": [],
   "source": []
  }
 ],
 "metadata": {
  "kernelspec": {
   "display_name": "Python 3",
   "language": "python",
   "name": "python3"
  },
  "language_info": {
   "codemirror_mode": {
    "name": "ipython",
    "version": 3
   },
   "file_extension": ".py",
   "mimetype": "text/x-python",
   "name": "python",
   "nbconvert_exporter": "python",
   "pygments_lexer": "ipython3",
   "version": "3.6.5"
  }
 },
 "nbformat": 4,
 "nbformat_minor": 2
}
