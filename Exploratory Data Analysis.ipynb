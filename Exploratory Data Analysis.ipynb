{
 "cells": [
  {
   "cell_type": "markdown",
   "metadata": {},
   "source": [
    "# Data Storytelling\n",
    "## Exploratory Data Analysis\n",
    "### Harvard CS 109\n",
    "[Lecture Notes](https://github.com/cs109/2015/blob/master/Lectures/03-EDA.pdf)"
   ]
  },
  {
   "cell_type": "markdown",
   "metadata": {},
   "source": [
    "# Lecture 1 [Link](https://www.springboard.com/workshops/data-science-career-track/learn/64/#/curriculum/2642)"
   ]
  },
  {
   "cell_type": "markdown",
   "metadata": {},
   "source": [
    "- A good visualization is intended to offload your cognitive load and allow you to explore the data through a visual medium.\n",
    "\n",
    "### Good Visualizations:\n",
    "1. Have graphical integrity\n",
    "2. Keep it simple\n",
    "3. Use the right display\n",
    "4. Use colour strategically\n",
    "5. Tell a story with data"
   ]
  },
  {
   "cell_type": "markdown",
   "metadata": {},
   "source": [
    "There are not many hard rules in data visualization. One rule is:\n",
    "\n",
    "- **Always start your bar charts at zero**"
   ]
  },
  {
   "cell_type": "markdown",
   "metadata": {},
   "source": [
    "PDF\n",
    "[Choosing Graphs - A Thoughtful Starter](http://extremepresentation.typepad.com/files/choosing-a-good-chart-09.pdf)\n",
    "![Choosing Graphs - A Thoughtful Starter](choosing-a-good-chart-09.pdf)"
   ]
  },
  {
   "cell_type": "markdown",
   "metadata": {},
   "source": [
    "Nathan Yau - [Flowing Data](http://flowingdata.com)"
   ]
  },
  {
   "cell_type": "markdown",
   "metadata": {},
   "source": [
    "- A well structured pie chart is completely fine. However, you should know that a pie chart is not as effective as a bar chart.\n",
    "- Design is the a disipline of coming up with many different alternatives.\n",
    "- Slope graphs are not well known but can be very useful for showing change."
   ]
  },
  {
   "cell_type": "markdown",
   "metadata": {},
   "source": [
    "## Further Reading:\n",
    "\n",
    "- Edward Tufte\n",
    "    - [The visual Display of Quantitative Data](https://www.amazon.com/gp/product/0961392142/ref=dbs_a_def_rwt_hsch_vapi_taft_p1_i0)\n",
    "- Stephen Few\n",
    "    - [Show Me the Numbers](https://www.amazon.ca/Show-Me-Numbers-Designing-Enlighten/dp/0970601999)"
   ]
  },
  {
   "cell_type": "markdown",
   "metadata": {},
   "source": [
    "# Lecture 2 [Link](https://www.springboard.com/workshops/data-science-career-track/learn/64/#/curriculum/2642)\n",
    "\n",
    "[Lecture Notes](https://github.com/cs109/2015/blob/master/Lectures/06-StoryTelling.pdf)"
   ]
  },
  {
   "cell_type": "markdown",
   "metadata": {},
   "source": [
    "1. I: Inferential Goal\n",
    "2. M: Model (all models are wrong, some are useful)\n",
    "3. A: Algorithms\n",
    "4. C: Conclusions and checking"
   ]
  },
  {
   "cell_type": "markdown",
   "metadata": {},
   "source": [
    "- Keep it short and memorable\n",
    "\n",
    "Key Considerations\n",
    "\n",
    "- Who is your audience?\n",
    "- What questions are you answering?\n",
    "- Why should the audience care?\n",
    "- What are the major insights and surprises?\n",
    "- What change do you what to affect?"
   ]
  },
  {
   "cell_type": "markdown",
   "metadata": {},
   "source": [
    "# Lecture 3 [Link](https://www.springboard.com/workshops/data-science-career-track/learn/64/#/curriculum/2642)"
   ]
  },
  {
   "cell_type": "markdown",
   "metadata": {},
   "source": [
    "- Goals and priorities?\n",
    "- Beliefs and preferences?\n",
    "- Specific expectations?\n",
    "- Topic familiarity?\n",
    "- Data savvy?\n",
    "- Senority level?\n",
    "- Audience mix?"
   ]
  },
  {
   "cell_type": "markdown",
   "metadata": {},
   "source": [
    "### How to insert heros into your data story:\n",
    "- Determine which user segment matters to your story\n",
    "- Build a rich data-driven profile of your hero\n",
    "- Give your hero an identity\n",
    "- Give your hero a voice\n",
    "- Show their journey"
   ]
  },
  {
   "cell_type": "code",
   "execution_count": null,
   "metadata": {},
   "outputs": [],
   "source": []
  }
 ],
 "metadata": {
  "kernelspec": {
   "display_name": "Python 3",
   "language": "python",
   "name": "python3"
  },
  "language_info": {
   "codemirror_mode": {
    "name": "ipython",
    "version": 3
   },
   "file_extension": ".py",
   "mimetype": "text/x-python",
   "name": "python",
   "nbconvert_exporter": "python",
   "pygments_lexer": "ipython3",
   "version": "3.6.5"
  }
 },
 "nbformat": 4,
 "nbformat_minor": 2
}
