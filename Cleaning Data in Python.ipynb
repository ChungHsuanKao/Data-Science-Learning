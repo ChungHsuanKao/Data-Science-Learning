{
 "cells": [
  {
   "cell_type": "markdown",
   "metadata": {},
   "source": [
    "# [Cleaning Data in Python](https://www.datacamp.com/courses/cleaning-data-in-python)\n",
    "\n",
    "## Diagnose data for cleaning"
   ]
  },
  {
   "cell_type": "markdown",
   "metadata": {},
   "source": [
    "### [Example 2 exploring-your-data](https://campus.datacamp.com/courses/cleaning-data-in-python/exploring-your-data?ex=2)\n",
    "\n",
    "```python\n",
    "# Import pandas\n",
    "import pandas as pd\n",
    "\n",
    "# Read the file into a DataFrame: df\n",
    "df = pd.read_csv('dob_job_application_filings_subset.csv')\n",
    "\n",
    "# Print the head of df\n",
    "print(df.head())\n",
    "\n",
    "# Print the tail of df\n",
    "print(df.tail())\n",
    "\n",
    "# Print the shape of df\n",
    "print(df.shape)\n",
    "\n",
    "# Print the columns of df\n",
    "print(df.columns)\n",
    "\n",
    "# Print the head and tail of df_subset\n",
    "print(df_subset.head())\n",
    "print(df_subset.tail())\n",
    "```"
   ]
  },
  {
   "cell_type": "markdown",
   "metadata": {},
   "source": [
    "### [Example 3 exploring-your-data](https://campus.datacamp.com/courses/cleaning-data-in-python/exploring-your-data?ex=3)\n",
    "\n",
    "```python\n",
    "# Print the info of df\n",
    "print(df.info())\n",
    "\n",
    "# Print the info of df_subset\n",
    "print(df_subset.info())\n",
    "```"
   ]
  },
  {
   "cell_type": "markdown",
   "metadata": {},
   "source": [
    "## EDA - Exploratory Data Analysis\n",
    "\n",
    "`df.continent.value_counts(dropna=False)`\n",
    "\n",
    "- With `dropna=False`, the null values will also be counted "
   ]
  },
  {
   "cell_type": "markdown",
   "metadata": {},
   "source": [
    "### [Example 6 exploring-your-data](https://campus.datacamp.com/courses/cleaning-data-in-python/exploring-your-data?ex=6)\n",
    "\n",
    "```python\n",
    "# Print the value counts for 'Borough'\n",
    "print(df['Borough'].value_counts(dropna=False))\n",
    "\n",
    "# Print the value_counts for 'State'\n",
    "print(df['State'].value_counts(dropna=False))\n",
    "\n",
    "# Print the value counts for 'Site Fill'\n",
    "print(df['Site Fill'].value_counts(dropna=False))\n",
    "```"
   ]
  },
  {
   "cell_type": "markdown",
   "metadata": {},
   "source": [
    "## Bar plots and histograms\n",
    "- Bar plots for discrete data counts\n",
    "- Histograms for continuous data counts\n",
    "- Look at frequencies\n",
    "\n",
    "```python\n",
    "df.boxplot(column='population', by='continent')\n",
    "```\n",
    "\n",
    "- Scatter plots for relationships between 2 numeric variables"
   ]
  },
  {
   "cell_type": "markdown",
   "metadata": {},
   "source": [
    "### [Example 8 exploring-your-data](https://campus.datacamp.com/courses/cleaning-data-in-python/exploring-your-data?ex=8)\n",
    "\n",
    "```python\n",
    "# Import matplotlib.pyplot\n",
    "import matplotlib.pyplot as plt\n",
    "\n",
    "# Plot the histogram\n",
    "df['Existing Zoning Sqft'].plot(kind='hist', rot=70, logx=True, logy=True)\n",
    "\n",
    "# Display the histogram\n",
    "plt.show()\n",
    "```\n",
    "\n"
   ]
  },
  {
   "cell_type": "markdown",
   "metadata": {},
   "source": [
    "### [Example 10 exploring-your-data](https://campus.datacamp.com/courses/cleaning-data-in-python/exploring-your-data?ex=10)\n",
    "\n",
    "```python\n",
    "# Import necessary modules\n",
    "import pandas as pd\n",
    "import matplotlib.pyplot as plt\n",
    "\n",
    "# Create and display the first scatter plot\n",
    "df.plot(kind='scatter', x='initial_cost', y='total_est_fee', rot=70)\n",
    "plt.show()\n",
    "\n",
    "# Create and display the second scatter plot\n",
    "df_subset.plot(kind='scatter', x='initial_cost', y='total_est_fee', rot=70)\n",
    "plt.show()\n",
    "```"
   ]
  },
  {
   "cell_type": "markdown",
   "metadata": {},
   "source": [
    "### [Example 11 tidying-data-for-analysis](https://campus.datacamp.com/courses/cleaning-data-in-python/tidying-data-for-analysis?ex=1)\n",
    "![Tidy Data](tidy_data.png)\n",
    "![Tidy Data 2](tidy_data2.png)\n",
    "![Tidy Data Paper](TidyData.pdf)\n",
    "[Tidy Data Paper](TidyData.pdf)\n",
    "\n",
    "```python\n",
    "pd.melt(frame=df, id_vars='name', value_vars=['treatment a', 'treatment b'], var_name='treatment', value_name='result')\n",
    "```"
   ]
  },
  {
   "cell_type": "markdown",
   "metadata": {},
   "source": [
    "### [Example 3 tidying-data-for-analysis](https://campus.datacamp.com/courses/cleaning-data-in-python/tidying-data-for-analysis?ex=3)\n",
    "\n",
    "```python\n",
    "# Print the head of airquality\n",
    "print(airquality.head())\n",
    "\n",
    "# Melt airquality: airquality_melt\n",
    "airquality_melt = pd.melt(airquality, id_vars=['Month', 'Day'])\n",
    "\n",
    "# Print the head of airquality_melt\n",
    "print(airquality_melt.head())\n",
    "```"
   ]
  },
  {
   "cell_type": "markdown",
   "metadata": {},
   "source": [
    "### [Example 4 tidying-data-for-analysis](https://campus.datacamp.com/courses/cleaning-data-in-python/tidying-data-for-analysis?ex=4)\n",
    "\n",
    "```python\n",
    "# Print the head of airquality\n",
    "print(airquality.head())\n",
    "\n",
    "# Melt airquality: airquality_melt\n",
    "airquality_melt = pd.melt(airquality, id_vars=['Month', 'Day'], var_name='measurement', value_name='reading')\n",
    "\n",
    "# Print the head of airquality_melt\n",
    "print(airquality_melt.head())\n",
    "```"
   ]
  },
  {
   "cell_type": "markdown",
   "metadata": {},
   "source": [
    "## Pivot Data\n",
    "\n",
    "![Pivot Data](pivot.png)\n",
    "\n",
    "```python\n",
    "weather_tidy = weather.pivot(index='date', columns='element', values='value')\n",
    "print(weather_tidy)\n",
    "```\n",
    "\n",
    "![Pivot Table](pivot_table.png)\n",
    "\n",
    "```python\n",
    "import numpy as np\n",
    "weather2_tidy = weather.pivot_table(index='date', columns='element', values='value', aggfunc=np.mean)\n",
    "```"
   ]
  },
  {
   "cell_type": "markdown",
   "metadata": {},
   "source": [
    "### [Example 6 tidying-data-for-analysis](https://campus.datacamp.com/courses/cleaning-data-in-python/tidying-data-for-analysis?ex=6)\n",
    "\n",
    "```python\n",
    "# Print the head of airquality_melt\n",
    "print(airquality_melt.head())\n",
    "\n",
    "# Pivot airquality_melt: airquality_pivot\n",
    "airquality_pivot = airquality_melt.pivot_table(index=['Month', 'Day'], columns='measurement', values='reading')\n",
    "\n",
    "# Print the head of airquality_pivot\n",
    "print(airquality_pivot.head())\n",
    "```"
   ]
  },
  {
   "cell_type": "markdown",
   "metadata": {},
   "source": [
    "### [Example 7 tidying-data-for-analysis](https://campus.datacamp.com/courses/cleaning-data-in-python/tidying-data-for-analysis?ex=7)\n",
    "\n",
    "```python\n",
    "# Print the index of airquality_pivot\n",
    "print(airquality_pivot.index)\n",
    "\n",
    "# Reset the index of airquality_pivot: airquality_pivot_reset\n",
    "airquality_pivot_reset = airquality_pivot.reset_index()\n",
    "\n",
    "# Print the new index of airquality_pivot_reset\n",
    "print(airquality_pivot_reset.index)\n",
    "\n",
    "# Print the head of airquality_pivot_reset\n",
    "print(airquality_pivot_reset.head())\n",
    "```"
   ]
  },
  {
   "cell_type": "markdown",
   "metadata": {},
   "source": [
    "### [Example 8 tidying-data-for-analysis](https://campus.datacamp.com/courses/cleaning-data-in-python/tidying-data-for-analysis?ex=8)\n",
    "\n",
    "```python\n",
    "# Pivot airquality_dup: airquality_pivot\n",
    "airquality_pivot = airquality_dup.pivot_table(index=['Month', 'Day'], columns='measurement', values='reading', aggfunc=np.mean)\n",
    "\n",
    "# Reset the index of airquality_pivot\n",
    "airquality_pivot = airquality_pivot.reset_index()\n",
    "\n",
    "# Print the head of airquality_pivot\n",
    "print(airquality_pivot.head())\n",
    "\n",
    "# Print the head of airquality\n",
    "print(airquality.head())\n",
    "```"
   ]
  },
  {
   "cell_type": "markdown",
   "metadata": {},
   "source": [
    "### [Example 10 tidying-data-for-analysis](https://campus.datacamp.com/courses/cleaning-data-in-python/tidying-data-for-analysis?ex=10)\n",
    "\n",
    "```python\n",
    "# Melt tb: tb_melt\n",
    "tb_melt = pd.melt(frame=tb, id_vars=['country', 'year'])\n",
    "\n",
    "# Create the 'gender' column\n",
    "tb_melt['gender'] = tb_melt.variable.str[0]\n",
    "\n",
    "# Create the 'age_group' column\n",
    "tb_melt['age_group'] = tb_melt.variable.str[1:]\n",
    "\n",
    "# Print the head of tb_melt\n",
    "print(tb_melt.head())\n",
    "```"
   ]
  },
  {
   "cell_type": "markdown",
   "metadata": {},
   "source": [
    "### [Example 11 tidying-data-for-analysis](https://campus.datacamp.com/courses/cleaning-data-in-python/tidying-data-for-analysis?ex=11)\n",
    "\n",
    "```python\n",
    "# Melt ebola: ebola_melt\n",
    "ebola_melt = pd.melt(ebola, id_vars=['Date', 'Day'], var_name='type_country', value_name='counts')\n",
    "\n",
    "# Create the 'str_split' column\n",
    "ebola_melt['str_split'] = ebola_melt.type_country.str.split('_')\n",
    "\n",
    "# Create the 'type' column\n",
    "ebola_melt['type'] = ebola_melt.str_split.str.get(0)\n",
    "\n",
    "# Create the 'country' column\n",
    "ebola_melt['country'] = ebola_melt.str_split.str.get(1)\n",
    "\n",
    "# Print the head of ebola_melt\n",
    "print(ebola_melt.head())\n",
    "```"
   ]
  },
  {
   "cell_type": "markdown",
   "metadata": {},
   "source": [
    "## Pandas `concat()`\n",
    "\n",
    "```python\n",
    "pd.concat([weather_p1, weather_p2], ignore_index=True)\n",
    "```"
   ]
  },
  {
   "cell_type": "markdown",
   "metadata": {},
   "source": [
    "### [Example 2 combining-data-for-analysis](https://campus.datacamp.com/courses/cleaning-data-in-python/combining-data-for-analysis?ex=2)\n",
    "\n",
    "```python\n",
    "\n",
    "```"
   ]
  },
  {
   "cell_type": "markdown",
   "metadata": {},
   "source": [
    "### [Example 2 combining-data-for-analysis](https://campus.datacamp.com/courses/cleaning-data-in-python/combining-data-for-analysis?ex=2)\n",
    "\n",
    "```python\n",
    "\n",
    "```"
   ]
  },
  {
   "cell_type": "markdown",
   "metadata": {},
   "source": [
    "### [Example 2 combining-data-for-analysis](https://campus.datacamp.com/courses/cleaning-data-in-python/combining-data-for-analysis?ex=2)\n",
    "\n",
    "```python\n",
    "\n",
    "```"
   ]
  },
  {
   "cell_type": "markdown",
   "metadata": {},
   "source": [
    "### [Example 2 combining-data-for-analysis](https://campus.datacamp.com/courses/cleaning-data-in-python/combining-data-for-analysis?ex=2)\n",
    "\n",
    "```python\n",
    "\n",
    "```"
   ]
  },
  {
   "cell_type": "code",
   "execution_count": null,
   "metadata": {},
   "outputs": [],
   "source": []
  }
 ],
 "metadata": {
  "kernelspec": {
   "display_name": "Python 3",
   "language": "python",
   "name": "python3"
  },
  "language_info": {
   "codemirror_mode": {
    "name": "ipython",
    "version": 3
   },
   "file_extension": ".py",
   "mimetype": "text/x-python",
   "name": "python",
   "nbconvert_exporter": "python",
   "pygments_lexer": "ipython3",
   "version": "3.6.5"
  }
 },
 "nbformat": 4,
 "nbformat_minor": 2
}
